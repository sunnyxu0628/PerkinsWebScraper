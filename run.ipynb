{
 "cells": [
  {
   "cell_type": "code",
   "execution_count": 1,
   "id": "eba010f6-03c2-4051-afed-68bdba6563b9",
   "metadata": {},
   "outputs": [],
   "source": [
    "import run\n",
    "import os"
   ]
  },
  {
   "cell_type": "code",
   "execution_count": 2,
   "id": "97ece7bd-634e-41d8-9efb-e0dfc2c777ae",
   "metadata": {},
   "outputs": [],
   "source": [
    "FORM_TYPE_LS = ['Form 1 Part E-C - College',\n",
    "               'Form 1 Part E-D - District',\n",
    "               'Form 1 Part F by 6 Digit TOP Code - College']\n",
    "COLLEGE_LS = ['San Diego City College                  ',\n",
    "              'San Diego Mesa College                  ',\n",
    "              'San Diego Miramar College Reg Cntr      ']\n",
    "DISTRICT_LS = ['San Diego District                      ']\n",
    "YEAR_LS = ['2024-2025', '2023-2024', '2022-2023', '2021-2022', '2020-2021']"
   ]
  },
  {
   "cell_type": "code",
   "execution_count": 3,
   "id": "51df8d97-b65c-4d78-b4c6-40865f0bf022",
   "metadata": {},
   "outputs": [],
   "source": [
    "data_folder = r\"C:\\Users\\bill1\\OneDrive\\Desktop\\PerkinsCoreIndicatorReport\\Data\"\n",
    "\n",
    "# Using os.path.join for subdirectories\n",
    "college_fp = os.path.join(data_folder, 'College')\n",
    "district_fp = os.path.join(data_folder, 'District')\n",
    "top_code_fp = os.path.join(data_folder, 'Top Code')\n",
    "\n",
    "# csv file path to log the scraping record.\n",
    "record_csv_path = os.path.join(data_folder, 'scraping_log.csv')\n",
    "\n",
    "# Create directories if they don't exist\n",
    "os.makedirs(college_fp, exist_ok=True)\n",
    "os.makedirs(district_fp, exist_ok=True)\n",
    "os.makedirs(top_code_fp, exist_ok=True)"
   ]
  },
  {
   "cell_type": "code",
   "execution_count": 4,
   "id": "87126440-fc1b-493a-b5d9-51547b379277",
   "metadata": {},
   "outputs": [
    {
     "name": "stdout",
     "output_type": "stream",
     "text": [
      "Working on San Diego City College...\n"
     ]
    },
    {
     "name": "stderr",
     "output_type": "stream",
     "text": [
      "Fiscal Years: 100%|████████████████████████████████████████████████████████████████████| 5/5 [01:12<00:00, 14.56s/year]\n"
     ]
    },
    {
     "name": "stdout",
     "output_type": "stream",
     "text": [
      "Working on San Diego Mesa College...\n"
     ]
    },
    {
     "name": "stderr",
     "output_type": "stream",
     "text": [
      "Fiscal Years: 100%|████████████████████████████████████████████████████████████████████| 5/5 [01:11<00:00, 14.24s/year]\n"
     ]
    },
    {
     "name": "stdout",
     "output_type": "stream",
     "text": [
      "Working on San Diego Miramar College Reg Cntr...\n"
     ]
    },
    {
     "name": "stderr",
     "output_type": "stream",
     "text": [
      "Fiscal Years: 100%|████████████████████████████████████████████████████████████████████| 5/5 [01:10<00:00, 14.03s/year]\n"
     ]
    }
   ],
   "source": [
    "run.run(\n",
    "    form_type = 'Form 1 Part E-C - College',\n",
    "    college_ls = COLLEGE_LS,\n",
    "    year_ls = YEAR_LS\n",
    "       )"
   ]
  },
  {
   "cell_type": "code",
   "execution_count": 4,
   "id": "5265e438-8180-45bc-a773-56c7c78fc20e",
   "metadata": {},
   "outputs": [
    {
     "name": "stdout",
     "output_type": "stream",
     "text": [
      "Working on San Diego City College in 2024-2025...\n"
     ]
    },
    {
     "name": "stderr",
     "output_type": "stream",
     "text": [
      "Top Codes:   0%|                                                                              | 0/50 [00:00<?, ?code/s]"
     ]
    },
    {
     "name": "stdout",
     "output_type": "stream",
     "text": [
      "Form 1 Part F by 6 Digit TOP Code - College, San Diego City College, 2024-2025, 010300   Plant Science is scraped already.\n"
     ]
    },
    {
     "name": "stderr",
     "output_type": "stream",
     "text": [
      "Top Codes:   2%|█▍                                                                    | 1/50 [00:05<04:21,  5.33s/code]"
     ]
    },
    {
     "name": "stdout",
     "output_type": "stream",
     "text": [
      "Form 1 Part F by 6 Digit TOP Code - College, San Diego City College, 2024-2025, 030300   Environmental Technology is scraped already.\n"
     ]
    },
    {
     "name": "stderr",
     "output_type": "stream",
     "text": [
      "Top Codes:   4%|██▊                                                                   | 2/50 [00:09<03:49,  4.77s/code]"
     ]
    },
    {
     "name": "stdout",
     "output_type": "stream",
     "text": [
      "Form 1 Part F by 6 Digit TOP Code - College, San Diego City College, 2024-2025, 043000   Biotechnology and Biomedical Technology is scraped already.\n"
     ]
    },
    {
     "name": "stderr",
     "output_type": "stream",
     "text": [
      "Top Codes:   6%|████▏                                                                 | 3/50 [00:16<04:21,  5.57s/code]"
     ]
    },
    {
     "name": "stdout",
     "output_type": "stream",
     "text": [
      "Form 1 Part F by 6 Digit TOP Code - College, San Diego City College, 2024-2025, 050100   Business and Commerce, General is scraped already.\n"
     ]
    },
    {
     "name": "stderr",
     "output_type": "stream",
     "text": [
      "Top Codes:   8%|█████▌                                                                | 4/50 [00:20<03:58,  5.19s/code]"
     ]
    },
    {
     "name": "stdout",
     "output_type": "stream",
     "text": [
      "Form 1 Part F by 6 Digit TOP Code - College, San Diego City College, 2024-2025, 050200   Accounting is scraped already.\n"
     ]
    },
    {
     "name": "stderr",
     "output_type": "stream",
     "text": [
      "Top Codes:  10%|███████                                                               | 5/50 [00:27<04:19,  5.77s/code]"
     ]
    },
    {
     "name": "stdout",
     "output_type": "stream",
     "text": [
      "Form 1 Part F by 6 Digit TOP Code - College, San Diego City College, 2024-2025, 050500   Business Administration is scraped already.\n"
     ]
    },
    {
     "name": "stderr",
     "output_type": "stream",
     "text": [
      "Top Codes:  12%|████████▍                                                             | 6/50 [00:32<04:02,  5.52s/code]"
     ]
    },
    {
     "name": "stdout",
     "output_type": "stream",
     "text": [
      "Form 1 Part F by 6 Digit TOP Code - College, San Diego City College, 2024-2025, 050600   Business Management is scraped already.\n"
     ]
    },
    {
     "name": "stderr",
     "output_type": "stream",
     "text": [
      "Top Codes:  14%|█████████▊                                                            | 7/50 [00:38<04:03,  5.66s/code]"
     ]
    },
    {
     "name": "stdout",
     "output_type": "stream",
     "text": [
      "Form 1 Part F by 6 Digit TOP Code - College, San Diego City College, 2024-2025, 050640   Small Business and Entrepreneurship is scraped already.\n"
     ]
    },
    {
     "name": "stderr",
     "output_type": "stream",
     "text": [
      "Top Codes:  16%|███████████▏                                                          | 8/50 [00:43<03:41,  5.27s/code]"
     ]
    },
    {
     "name": "stdout",
     "output_type": "stream",
     "text": [
      "Form 1 Part F by 6 Digit TOP Code - College, San Diego City College, 2024-2025, 050900   Marketing and Distribution is scraped already.\n"
     ]
    },
    {
     "name": "stderr",
     "output_type": "stream",
     "text": [
      "Top Codes:  18%|████████████▌                                                         | 9/50 [00:48<03:37,  5.31s/code]"
     ]
    },
    {
     "name": "stdout",
     "output_type": "stream",
     "text": [
      "Form 1 Part F by 6 Digit TOP Code - College, San Diego City College, 2024-2025, 051100   Real Estate is scraped already.\n"
     ]
    },
    {
     "name": "stderr",
     "output_type": "stream",
     "text": [
      "Top Codes:  20%|█████████████▊                                                       | 10/50 [00:54<03:37,  5.45s/code]"
     ]
    },
    {
     "name": "stdout",
     "output_type": "stream",
     "text": [
      "Form 1 Part F by 6 Digit TOP Code - College, San Diego City College, 2024-2025, 051400   Office Technology/Office Computer Applications is scraped already.\n"
     ]
    },
    {
     "name": "stderr",
     "output_type": "stream",
     "text": [
      "Top Codes:  22%|███████████████▏                                                     | 11/50 [00:58<03:19,  5.11s/code]"
     ]
    },
    {
     "name": "stdout",
     "output_type": "stream",
     "text": [
      "Form 1 Part F by 6 Digit TOP Code - College, San Diego City College, 2024-2025, 060200   Journalism is scraped already.\n"
     ]
    },
    {
     "name": "stderr",
     "output_type": "stream",
     "text": [
      "Top Codes:  24%|████████████████▌                                                    | 12/50 [01:02<03:05,  4.88s/code]"
     ]
    },
    {
     "name": "stdout",
     "output_type": "stream",
     "text": [
      "Form 1 Part F by 6 Digit TOP Code - College, San Diego City College, 2024-2025, 060400   Radio and Television is scraped already.\n"
     ]
    },
    {
     "name": "stderr",
     "output_type": "stream",
     "text": [
      "Top Codes:  26%|█████████████████▉                                                   | 13/50 [01:07<02:54,  4.72s/code]"
     ]
    },
    {
     "name": "stdout",
     "output_type": "stream",
     "text": [
      "Form 1 Part F by 6 Digit TOP Code - College, San Diego City College, 2024-2025, 060410   Radio is scraped already.\n"
     ]
    },
    {
     "name": "stderr",
     "output_type": "stream",
     "text": [
      "Top Codes:  28%|███████████████████▎                                                 | 14/50 [01:11<02:45,  4.61s/code]"
     ]
    },
    {
     "name": "stdout",
     "output_type": "stream",
     "text": [
      "Form 1 Part F by 6 Digit TOP Code - College, San Diego City College, 2024-2025, 060420   Television (including combined TV/Film/Video) is scraped already.\n"
     ]
    },
    {
     "name": "stderr",
     "output_type": "stream",
     "text": [
      "Top Codes:  30%|████████████████████▋                                                | 15/50 [01:15<02:38,  4.52s/code]"
     ]
    },
    {
     "name": "stdout",
     "output_type": "stream",
     "text": [
      "Form 1 Part F by 6 Digit TOP Code - College, San Diego City College, 2024-2025, 060430   Broadcast Journalism is scraped already.\n"
     ]
    },
    {
     "name": "stderr",
     "output_type": "stream",
     "text": [
      "Top Codes:  32%|██████████████████████                                               | 16/50 [01:20<02:32,  4.47s/code]"
     ]
    },
    {
     "name": "stdout",
     "output_type": "stream",
     "text": [
      "Form 1 Part F by 6 Digit TOP Code - College, San Diego City College, 2024-2025, 061220   Film Production is scraped already.\n"
     ]
    },
    {
     "name": "stderr",
     "output_type": "stream",
     "text": [
      "Top Codes:  34%|███████████████████████▍                                             | 17/50 [01:24<02:26,  4.43s/code]"
     ]
    },
    {
     "name": "stdout",
     "output_type": "stream",
     "text": [
      "Form 1 Part F by 6 Digit TOP Code - College, San Diego City College, 2024-2025, 061410   Multimedia is scraped already.\n"
     ]
    },
    {
     "name": "stderr",
     "output_type": "stream",
     "text": [
      "Top Codes:  36%|████████████████████████▊                                            | 18/50 [01:29<02:21,  4.43s/code]"
     ]
    },
    {
     "name": "stdout",
     "output_type": "stream",
     "text": [
      "Form 1 Part F by 6 Digit TOP Code - College, San Diego City College, 2024-2025, 070100   Information Technology, General is scraped already.\n"
     ]
    },
    {
     "name": "stderr",
     "output_type": "stream",
     "text": [
      "Top Codes:  38%|██████████████████████████▏                                          | 19/50 [01:33<02:16,  4.40s/code]"
     ]
    },
    {
     "name": "stdout",
     "output_type": "stream",
     "text": [
      "Form 1 Part F by 6 Digit TOP Code - College, San Diego City College, 2024-2025, 070210   Software Applications is scraped already.\n"
     ]
    },
    {
     "name": "stderr",
     "output_type": "stream",
     "text": [
      "Top Codes:  40%|███████████████████████████▌                                         | 20/50 [01:37<02:12,  4.43s/code]"
     ]
    },
    {
     "name": "stdout",
     "output_type": "stream",
     "text": [
      "Form 1 Part F by 6 Digit TOP Code - College, San Diego City College, 2024-2025, 070700   Computer Software Development is scraped already.\n"
     ]
    },
    {
     "name": "stderr",
     "output_type": "stream",
     "text": [
      "Top Codes:  42%|████████████████████████████▉                                        | 21/50 [01:42<02:07,  4.40s/code]"
     ]
    },
    {
     "name": "stdout",
     "output_type": "stream",
     "text": [
      "Form 1 Part F by 6 Digit TOP Code - College, San Diego City College, 2024-2025, 070710   Computer Programming is scraped already.\n"
     ]
    },
    {
     "name": "stderr",
     "output_type": "stream",
     "text": [
      "Top Codes:  44%|██████████████████████████████▎                                      | 22/50 [01:46<02:03,  4.40s/code]"
     ]
    },
    {
     "name": "stdout",
     "output_type": "stream",
     "text": [
      "Form 1 Part F by 6 Digit TOP Code - College, San Diego City College, 2024-2025, 070800   Computer Infrastructure and Support is scraped already.\n"
     ]
    },
    {
     "name": "stderr",
     "output_type": "stream",
     "text": [
      "Top Codes:  46%|███████████████████████████████▋                                     | 23/50 [01:51<01:59,  4.41s/code]"
     ]
    },
    {
     "name": "stdout",
     "output_type": "stream",
     "text": [
      "Form 1 Part F by 6 Digit TOP Code - College, San Diego City College, 2024-2025, 070820   Computer Support is scraped already.\n"
     ]
    },
    {
     "name": "stderr",
     "output_type": "stream",
     "text": [
      "Top Codes:  48%|█████████████████████████████████                                    | 24/50 [01:55<01:54,  4.39s/code]"
     ]
    },
    {
     "name": "stdout",
     "output_type": "stream",
     "text": [
      "Form 1 Part F by 6 Digit TOP Code - College, San Diego City College, 2024-2025, 083520   Fitness Trainer is scraped already.\n"
     ]
    },
    {
     "name": "stderr",
     "output_type": "stream",
     "text": [
      "Top Codes:  50%|██████████████████████████████████▌                                  | 25/50 [02:00<01:54,  4.59s/code]"
     ]
    },
    {
     "name": "stdout",
     "output_type": "stream",
     "text": [
      "Form 1 Part F by 6 Digit TOP Code - College, San Diego City College, 2024-2025, 093400   Electronics and Electric Technology is scraped already.\n"
     ]
    },
    {
     "name": "stderr",
     "output_type": "stream",
     "text": [
      "Top Codes:  52%|███████████████████████████████████▉                                 | 26/50 [02:04<01:48,  4.52s/code]"
     ]
    },
    {
     "name": "stdout",
     "output_type": "stream",
     "text": [
      "Form 1 Part F by 6 Digit TOP Code - College, San Diego City College, 2024-2025, 093420   Industrial Electronics is scraped already.\n"
     ]
    },
    {
     "name": "stderr",
     "output_type": "stream",
     "text": [
      "Top Codes:  54%|█████████████████████████████████████▎                               | 27/50 [02:09<01:42,  4.47s/code]"
     ]
    },
    {
     "name": "stdout",
     "output_type": "stream",
     "text": [
      "Form 1 Part F by 6 Digit TOP Code - College, San Diego City College, 2024-2025, 093430   Telecommunications Technology is scraped already.\n"
     ]
    },
    {
     "name": "stderr",
     "output_type": "stream",
     "text": [
      "Top Codes:  56%|██████████████████████████████████████▋                              | 28/50 [02:13<01:37,  4.44s/code]"
     ]
    },
    {
     "name": "stdout",
     "output_type": "stream",
     "text": [
      "Form 1 Part F by 6 Digit TOP Code - College, San Diego City College, 2024-2025, 093440   Electrical Systems and Power Transmission is scraped already.\n"
     ]
    },
    {
     "name": "stderr",
     "output_type": "stream",
     "text": [
      "Top Codes:  58%|████████████████████████████████████████                             | 29/50 [02:17<01:32,  4.39s/code]"
     ]
    },
    {
     "name": "stdout",
     "output_type": "stream",
     "text": [
      "Form 1 Part F by 6 Digit TOP Code - College, San Diego City College, 2024-2025, 094600   Environmental Control Technology is scraped already.\n"
     ]
    },
    {
     "name": "stderr",
     "output_type": "stream",
     "text": [
      "Top Codes:  60%|█████████████████████████████████████████▍                           | 30/50 [02:22<01:27,  4.37s/code]"
     ]
    },
    {
     "name": "stdout",
     "output_type": "stream",
     "text": [
      "Form 1 Part F by 6 Digit TOP Code - College, San Diego City College, 2024-2025, 095210   Carpentry is scraped already.\n"
     ]
    },
    {
     "name": "stderr",
     "output_type": "stream",
     "text": [
      "Top Codes:  62%|██████████████████████████████████████████▊                          | 31/50 [02:26<01:22,  4.34s/code]"
     ]
    },
    {
     "name": "stdout",
     "output_type": "stream",
     "text": [
      "Form 1 Part F by 6 Digit TOP Code - College, San Diego City College, 2024-2025, 095220   Electrical is scraped already.\n"
     ]
    },
    {
     "name": "stderr",
     "output_type": "stream",
     "text": [
      "Top Codes:  64%|████████████████████████████████████████████▏                        | 32/50 [02:30<01:18,  4.33s/code]"
     ]
    },
    {
     "name": "stdout",
     "output_type": "stream",
     "text": [
      "Form 1 Part F by 6 Digit TOP Code - College, San Diego City College, 2024-2025, 095600   Manufacturing and Industrial Technology is scraped already.\n"
     ]
    },
    {
     "name": "stderr",
     "output_type": "stream",
     "text": [
      "Top Codes:  66%|█████████████████████████████████████████████▌                       | 33/50 [02:35<01:15,  4.42s/code]"
     ]
    },
    {
     "name": "stdout",
     "output_type": "stream",
     "text": [
      "Form 1 Part F by 6 Digit TOP Code - College, San Diego City College, 2024-2025, 095630   Machining and Machine Tools is scraped already.\n"
     ]
    },
    {
     "name": "stderr",
     "output_type": "stream",
     "text": [
      "Top Codes:  68%|██████████████████████████████████████████████▉                      | 34/50 [02:40<01:14,  4.68s/code]"
     ]
    },
    {
     "name": "stdout",
     "output_type": "stream",
     "text": [
      "Form 1 Part F by 6 Digit TOP Code - College, San Diego City College, 2024-2025, 099900   Other Engineering and Related Industrial Technologies is scraped already.\n"
     ]
    },
    {
     "name": "stderr",
     "output_type": "stream",
     "text": [
      "Top Codes:  70%|████████████████████████████████████████████████▎                    | 35/50 [02:45<01:11,  4.77s/code]"
     ]
    },
    {
     "name": "stdout",
     "output_type": "stream",
     "text": [
      "Form 1 Part F by 6 Digit TOP Code - College, San Diego City College, 2024-2025, 100500   Commercial Music is scraped already.\n"
     ]
    },
    {
     "name": "stderr",
     "output_type": "stream",
     "text": [
      "Top Codes:  72%|█████████████████████████████████████████████████▋                   | 36/50 [02:49<01:05,  4.66s/code]"
     ]
    },
    {
     "name": "stdout",
     "output_type": "stream",
     "text": [
      "Form 1 Part F by 6 Digit TOP Code - College, San Diego City College, 2024-2025, 100600   Technical Theater is scraped already.\n"
     ]
    },
    {
     "name": "stderr",
     "output_type": "stream",
     "text": [
      "Top Codes:  74%|███████████████████████████████████████████████████                  | 37/50 [02:54<00:59,  4.56s/code]"
     ]
    },
    {
     "name": "stdout",
     "output_type": "stream",
     "text": [
      "Form 1 Part F by 6 Digit TOP Code - College, San Diego City College, 2024-2025, 101200   Applied Photography is scraped already.\n"
     ]
    },
    {
     "name": "stderr",
     "output_type": "stream",
     "text": [
      "Top Codes:  76%|████████████████████████████████████████████████████▍                | 38/50 [02:58<00:54,  4.52s/code]"
     ]
    },
    {
     "name": "stdout",
     "output_type": "stream",
     "text": [
      "Form 1 Part F by 6 Digit TOP Code - College, San Diego City College, 2024-2025, 101300   Commercial Art is scraped already.\n"
     ]
    },
    {
     "name": "stderr",
     "output_type": "stream",
     "text": [
      "Top Codes:  78%|█████████████████████████████████████████████████████▊               | 39/50 [03:03<00:49,  4.53s/code]"
     ]
    },
    {
     "name": "stdout",
     "output_type": "stream",
     "text": [
      "Form 1 Part F by 6 Digit TOP Code - College, San Diego City College, 2024-2025, 103000   Graphic Art and Design is scraped already.\n"
     ]
    },
    {
     "name": "stderr",
     "output_type": "stream",
     "text": [
      "Top Codes:  80%|███████████████████████████████████████████████████████▏             | 40/50 [03:07<00:44,  4.46s/code]"
     ]
    },
    {
     "name": "stdout",
     "output_type": "stream",
     "text": [
      "Form 1 Part F by 6 Digit TOP Code - College, San Diego City College, 2024-2025, 123010   Registered Nursing is scraped already.\n"
     ]
    },
    {
     "name": "stderr",
     "output_type": "stream",
     "text": [
      "Top Codes:  82%|████████████████████████████████████████████████████████▌            | 41/50 [03:11<00:39,  4.43s/code]"
     ]
    },
    {
     "name": "stdout",
     "output_type": "stream",
     "text": [
      "Form 1 Part F by 6 Digit TOP Code - College, San Diego City College, 2024-2025, 130500   Child Development/Early Care and Education is scraped already.\n"
     ]
    },
    {
     "name": "stderr",
     "output_type": "stream",
     "text": [
      "Top Codes:  84%|█████████████████████████████████████████████████████████▉           | 42/50 [03:16<00:35,  4.39s/code]"
     ]
    },
    {
     "name": "stdout",
     "output_type": "stream",
     "text": [
      "Form 1 Part F by 6 Digit TOP Code - College, San Diego City College, 2024-2025, 130540   Preshool Age Children is scraped already.\n"
     ]
    },
    {
     "name": "stderr",
     "output_type": "stream",
     "text": [
      "Top Codes:  86%|███████████████████████████████████████████████████████████▎         | 43/50 [03:20<00:30,  4.37s/code]"
     ]
    },
    {
     "name": "stdout",
     "output_type": "stream",
     "text": [
      "Form 1 Part F by 6 Digit TOP Code - College, San Diego City College, 2024-2025, 130550   The School Age Child is scraped already.\n"
     ]
    },
    {
     "name": "stderr",
     "output_type": "stream",
     "text": [
      "Top Codes:  88%|████████████████████████████████████████████████████████████▋        | 44/50 [03:24<00:26,  4.37s/code]"
     ]
    },
    {
     "name": "stdout",
     "output_type": "stream",
     "text": [
      "Form 1 Part F by 6 Digit TOP Code - College, San Diego City College, 2024-2025, 130600   Nutrition, Foods, and Culinary Arts is scraped already.\n"
     ]
    },
    {
     "name": "stderr",
     "output_type": "stream",
     "text": [
      "Top Codes:  90%|██████████████████████████████████████████████████████████████       | 45/50 [03:29<00:21,  4.39s/code]"
     ]
    },
    {
     "name": "stdout",
     "output_type": "stream",
     "text": [
      "Form 1 Part F by 6 Digit TOP Code - College, San Diego City College, 2024-2025, 130900   Gerontology is scraped already.\n"
     ]
    },
    {
     "name": "stderr",
     "output_type": "stream",
     "text": [
      "Top Codes:  92%|███████████████████████████████████████████████████████████████▍     | 46/50 [03:34<00:18,  4.66s/code]"
     ]
    },
    {
     "name": "stdout",
     "output_type": "stream",
     "text": [
      "Form 1 Part F by 6 Digit TOP Code - College, San Diego City College, 2024-2025, 210400   Human Services is scraped already.\n"
     ]
    },
    {
     "name": "stderr",
     "output_type": "stream",
     "text": [
      "Top Codes:  94%|████████████████████████████████████████████████████████████████▊    | 47/50 [03:38<00:13,  4.55s/code]"
     ]
    },
    {
     "name": "stdout",
     "output_type": "stream",
     "text": [
      "Form 1 Part F by 6 Digit TOP Code - College, San Diego City College, 2024-2025, 210440   Alcohol and Controlled Substances is scraped already.\n"
     ]
    },
    {
     "name": "stderr",
     "output_type": "stream",
     "text": [
      "Top Codes:  96%|██████████████████████████████████████████████████████████████████▏  | 48/50 [03:43<00:09,  4.60s/code]"
     ]
    },
    {
     "name": "stdout",
     "output_type": "stream",
     "text": [
      "Form 1 Part F by 6 Digit TOP Code - College, San Diego City College, 2024-2025, 219900   Other Public and Protective Services is scraped already.\n"
     ]
    },
    {
     "name": "stderr",
     "output_type": "stream",
     "text": [
      "Top Codes:  98%|███████████████████████████████████████████████████████████████████▌ | 49/50 [03:48<00:04,  4.57s/code]"
     ]
    },
    {
     "name": "stdout",
     "output_type": "stream",
     "text": [
      "Form 1 Part F by 6 Digit TOP Code - College, San Diego City College, 2024-2025, 300700   Cosmetology and Barbering is scraped already.\n"
     ]
    },
    {
     "name": "stderr",
     "output_type": "stream",
     "text": [
      "Top Codes: 100%|█████████████████████████████████████████████████████████████████████| 50/50 [03:52<00:00,  4.66s/code]\n"
     ]
    },
    {
     "name": "stdout",
     "output_type": "stream",
     "text": [
      "Working on San Diego City College in 2023-2024...\n"
     ]
    },
    {
     "name": "stderr",
     "output_type": "stream",
     "text": [
      "Top Codes: 100%|█████████████████████████████████████████████████████████████████████| 50/50 [14:16<00:00, 17.13s/code]\n"
     ]
    },
    {
     "name": "stdout",
     "output_type": "stream",
     "text": [
      "Working on San Diego City College in 2022-2023...\n"
     ]
    },
    {
     "name": "stderr",
     "output_type": "stream",
     "text": [
      "Top Codes: 100%|█████████████████████████████████████████████████████████████████████| 50/50 [14:05<00:00, 16.91s/code]\n"
     ]
    },
    {
     "name": "stdout",
     "output_type": "stream",
     "text": [
      "Working on San Diego City College in 2021-2022...\n"
     ]
    },
    {
     "name": "stderr",
     "output_type": "stream",
     "text": [
      "Top Codes:  61%|█████████████████████████████████████████▊                           | 37/61 [10:37<06:46, 16.94s/code]"
     ]
    },
    {
     "name": "stdout",
     "output_type": "stream",
     "text": [
      "An error occurred during scraping: Message: \n",
      "Stacktrace:\n",
      "\tGetHandleVerifier [0x00007FF71A48FDA5+29557]\n",
      "\t(No symbol) [0x00007FF71A402240]\n",
      "\t(No symbol) [0x00007FF71A2BB6EA]\n",
      "\t(No symbol) [0x00007FF71A30FA15]\n",
      "\t(No symbol) [0x00007FF71A30FC6C]\n",
      "\t(No symbol) [0x00007FF71A35BB07]\n",
      "\t(No symbol) [0x00007FF71A33753F]\n",
      "\t(No symbol) [0x00007FF71A3588A3]\n",
      "\t(No symbol) [0x00007FF71A3372A3]\n",
      "\t(No symbol) [0x00007FF71A3012DF]\n",
      "\t(No symbol) [0x00007FF71A302451]\n",
      "\tGetHandleVerifier [0x00007FF71A7BDCBD+3363469]\n",
      "\tGetHandleVerifier [0x00007FF71A809B47+3674391]\n",
      "\tGetHandleVerifier [0x00007FF71A7FEAEB+3629243]\n",
      "\tGetHandleVerifier [0x00007FF71A54FC66+815670]\n",
      "\t(No symbol) [0x00007FF71A40D6EF]\n",
      "\t(No symbol) [0x00007FF71A4092B4]\n",
      "\t(No symbol) [0x00007FF71A409450]\n",
      "\t(No symbol) [0x00007FF71A3F81FF]\n",
      "\tBaseThreadInitThunk [0x00007FFE5144257D+29]\n",
      "\tRtlUserThreadStart [0x00007FFE51D8AF08+40]\n",
      "\n"
     ]
    },
    {
     "name": "stderr",
     "output_type": "stream",
     "text": [
      "Top Codes:  79%|██████████████████████████████████████████████████████▎              | 48/61 [13:48<03:43, 17.21s/code]"
     ]
    },
    {
     "name": "stdout",
     "output_type": "stream",
     "text": [
      "An error occurred during scraping: Message: \n",
      "Stacktrace:\n",
      "\tGetHandleVerifier [0x00007FF71A48FDA5+29557]\n",
      "\t(No symbol) [0x00007FF71A402240]\n",
      "\t(No symbol) [0x00007FF71A2BB6EA]\n",
      "\t(No symbol) [0x00007FF71A30FA15]\n",
      "\t(No symbol) [0x00007FF71A30FC6C]\n",
      "\t(No symbol) [0x00007FF71A35BB07]\n",
      "\t(No symbol) [0x00007FF71A33753F]\n",
      "\t(No symbol) [0x00007FF71A3588A3]\n",
      "\t(No symbol) [0x00007FF71A3372A3]\n",
      "\t(No symbol) [0x00007FF71A3012DF]\n",
      "\t(No symbol) [0x00007FF71A302451]\n",
      "\tGetHandleVerifier [0x00007FF71A7BDCBD+3363469]\n",
      "\tGetHandleVerifier [0x00007FF71A809B47+3674391]\n",
      "\tGetHandleVerifier [0x00007FF71A7FEAEB+3629243]\n",
      "\tGetHandleVerifier [0x00007FF71A54FC66+815670]\n",
      "\t(No symbol) [0x00007FF71A40D6EF]\n",
      "\t(No symbol) [0x00007FF71A4092B4]\n",
      "\t(No symbol) [0x00007FF71A409450]\n",
      "\t(No symbol) [0x00007FF71A3F81FF]\n",
      "\tBaseThreadInitThunk [0x00007FFE5144257D+29]\n",
      "\tRtlUserThreadStart [0x00007FFE51D8AF08+40]\n",
      "\n"
     ]
    },
    {
     "name": "stderr",
     "output_type": "stream",
     "text": [
      "Top Codes: 100%|█████████████████████████████████████████████████████████████████████| 61/61 [17:30<00:00, 17.22s/code]\n"
     ]
    },
    {
     "ename": "TimeoutException",
     "evalue": "Message: \n",
     "output_type": "error",
     "traceback": [
      "\u001b[1;31m---------------------------------------------------------------------------\u001b[0m",
      "\u001b[1;31mTimeoutException\u001b[0m                          Traceback (most recent call last)",
      "Cell \u001b[1;32mIn[4], line 1\u001b[0m\n\u001b[1;32m----> 1\u001b[0m run\u001b[38;5;241m.\u001b[39mrun(\n\u001b[0;32m      2\u001b[0m     form_type \u001b[38;5;241m=\u001b[39m \u001b[38;5;124m'\u001b[39m\u001b[38;5;124mForm 1 Part F by 6 Digit TOP Code - College\u001b[39m\u001b[38;5;124m'\u001b[39m,\n\u001b[0;32m      3\u001b[0m     college_ls \u001b[38;5;241m=\u001b[39m COLLEGE_LS,\n\u001b[0;32m      4\u001b[0m     year_ls \u001b[38;5;241m=\u001b[39m YEAR_LS\n\u001b[0;32m      5\u001b[0m        )\n",
      "File \u001b[1;32m~\\OneDrive\\Desktop\\PerkinsCoreIndicatorReport\\run.py:126\u001b[0m, in \u001b[0;36mrun\u001b[1;34m(form_type, college_ls, year_ls)\u001b[0m\n\u001b[0;32m    124\u001b[0m \u001b[38;5;28;01mfor\u001b[39;00m fiscal_year \u001b[38;5;129;01min\u001b[39;00m year_ls:\n\u001b[0;32m    125\u001b[0m     get_top_codes \u001b[38;5;241m=\u001b[39m PerkinsWebScraper()\n\u001b[1;32m--> 126\u001b[0m     top_codes \u001b[38;5;241m=\u001b[39m get_top_codes\u001b[38;5;241m.\u001b[39mget_top_codes(form_type, college, fiscal_year)\n\u001b[0;32m    127\u001b[0m     \u001b[38;5;28mprint\u001b[39m(\u001b[38;5;124mf\u001b[39m\u001b[38;5;124m'\u001b[39m\u001b[38;5;124mWorking on \u001b[39m\u001b[38;5;132;01m{\u001b[39;00mcollege\u001b[38;5;241m.\u001b[39mstrip()\u001b[38;5;132;01m}\u001b[39;00m\u001b[38;5;124m in \u001b[39m\u001b[38;5;132;01m{\u001b[39;00mfiscal_year\u001b[38;5;132;01m}\u001b[39;00m\u001b[38;5;124m...\u001b[39m\u001b[38;5;124m'\u001b[39m)\n\u001b[0;32m    128\u001b[0m     \u001b[38;5;28;01mfor\u001b[39;00m top_code \u001b[38;5;129;01min\u001b[39;00m tqdm(top_codes, desc\u001b[38;5;241m=\u001b[39m\u001b[38;5;124m'\u001b[39m\u001b[38;5;124mTop Codes\u001b[39m\u001b[38;5;124m'\u001b[39m, unit\u001b[38;5;241m=\u001b[39m\u001b[38;5;124m'\u001b[39m\u001b[38;5;124mcode\u001b[39m\u001b[38;5;124m'\u001b[39m, leave\u001b[38;5;241m=\u001b[39m\u001b[38;5;28;01mTrue\u001b[39;00m, position\u001b[38;5;241m=\u001b[39m\u001b[38;5;241m0\u001b[39m):\n",
      "File \u001b[1;32m~\\OneDrive\\Desktop\\PerkinsCoreIndicatorReport\\src\\PerkinsWebScraper.py:163\u001b[0m, in \u001b[0;36mPerkinsWebScraper.get_top_codes\u001b[1;34m(self, form_type, district_college, fiscal_year)\u001b[0m\n\u001b[0;32m    160\u001b[0m time\u001b[38;5;241m.\u001b[39msleep(\u001b[38;5;241m2\u001b[39m)\n\u001b[0;32m    161\u001b[0m top_code_dropdown_button\u001b[38;5;241m.\u001b[39mclick()\n\u001b[1;32m--> 163\u001b[0m top_code_options \u001b[38;5;241m=\u001b[39m \u001b[38;5;28mself\u001b[39m\u001b[38;5;241m.\u001b[39mwait\u001b[38;5;241m.\u001b[39muntil(\n\u001b[0;32m    164\u001b[0m     EC\u001b[38;5;241m.\u001b[39mvisibility_of_all_elements_located((By\u001b[38;5;241m.\u001b[39mXPATH, \u001b[38;5;124m\"\u001b[39m\u001b[38;5;124m//table[@id=\u001b[39m\u001b[38;5;124m'\u001b[39m\u001b[38;5;124mASPxRoundPanel1_ASPxComboBoxTCode_DDD_L_LBT\u001b[39m\u001b[38;5;124m'\u001b[39m\u001b[38;5;124m]//td[@class=\u001b[39m\u001b[38;5;124m'\u001b[39m\u001b[38;5;124mdxeListBoxItem_Aqua\u001b[39m\u001b[38;5;124m'\u001b[39m\u001b[38;5;124m]\u001b[39m\u001b[38;5;124m\"\u001b[39m))\n\u001b[0;32m    165\u001b[0m )\n\u001b[0;32m    166\u001b[0m top_codes \u001b[38;5;241m=\u001b[39m [top_code\u001b[38;5;241m.\u001b[39mtext \u001b[38;5;28;01mfor\u001b[39;00m top_code \u001b[38;5;129;01min\u001b[39;00m top_code_options]\n\u001b[0;32m    167\u001b[0m \u001b[38;5;28mself\u001b[39m\u001b[38;5;241m.\u001b[39mclose()\n",
      "File \u001b[1;32m~\\anaconda3\\Lib\\site-packages\\selenium\\webdriver\\support\\wait.py:105\u001b[0m, in \u001b[0;36mWebDriverWait.until\u001b[1;34m(self, method, message)\u001b[0m\n\u001b[0;32m    103\u001b[0m         \u001b[38;5;28;01mbreak\u001b[39;00m\n\u001b[0;32m    104\u001b[0m     time\u001b[38;5;241m.\u001b[39msleep(\u001b[38;5;28mself\u001b[39m\u001b[38;5;241m.\u001b[39m_poll)\n\u001b[1;32m--> 105\u001b[0m \u001b[38;5;28;01mraise\u001b[39;00m TimeoutException(message, screen, stacktrace)\n",
      "\u001b[1;31mTimeoutException\u001b[0m: Message: \n"
     ]
    }
   ],
   "source": [
    "run.run(\n",
    "    form_type = 'Form 1 Part F by 6 Digit TOP Code - College',\n",
    "    college_ls = COLLEGE_LS,\n",
    "    year_ls = YEAR_LS\n",
    "       )"
   ]
  },
  {
   "cell_type": "code",
   "execution_count": null,
   "id": "3e50cdcc-cb0f-49d2-9b5e-32603183f1ad",
   "metadata": {},
   "outputs": [],
   "source": []
  }
 ],
 "metadata": {
  "kernelspec": {
   "display_name": "Python 3 (ipykernel)",
   "language": "python",
   "name": "python3"
  },
  "language_info": {
   "codemirror_mode": {
    "name": "ipython",
    "version": 3
   },
   "file_extension": ".py",
   "mimetype": "text/x-python",
   "name": "python",
   "nbconvert_exporter": "python",
   "pygments_lexer": "ipython3",
   "version": "3.11.7"
  }
 },
 "nbformat": 4,
 "nbformat_minor": 5
}
