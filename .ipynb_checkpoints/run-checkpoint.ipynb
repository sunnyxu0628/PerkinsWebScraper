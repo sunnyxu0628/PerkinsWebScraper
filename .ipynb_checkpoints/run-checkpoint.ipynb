{
 "cells": [
  {
   "cell_type": "code",
   "execution_count": 1,
   "id": "eba010f6-03c2-4051-afed-68bdba6563b9",
   "metadata": {},
   "outputs": [],
   "source": [
    "import run\n",
    "import os"
   ]
  },
  {
   "cell_type": "code",
   "execution_count": 2,
   "id": "97ece7bd-634e-41d8-9efb-e0dfc2c777ae",
   "metadata": {},
   "outputs": [],
   "source": [
    "FORM_TYPE_LS = ['Form 1 Part E-C - College',\n",
    "               'Form 1 Part E-D - District',\n",
    "               'Form 1 Part F by 6 Digit TOP Code - College']\n",
    "COLLEGE_LS = ['San Diego City College                  ',\n",
    "              'San Diego Mesa College                  ',\n",
    "              'San Diego Miramar College Reg Cntr      ']\n",
    "DISTRICT_LS = ['San Diego District                      ']\n",
    "YEAR_LS = ['2024-2025', '2023-2024', '2022-2023', '2021-2022', '2020-2021']"
   ]
  },
  {
   "cell_type": "code",
   "execution_count": 3,
   "id": "51df8d97-b65c-4d78-b4c6-40865f0bf022",
   "metadata": {},
   "outputs": [],
   "source": [
    "data_folder = r\"C:\\Users\\bill1\\OneDrive\\Desktop\\PerkinsCoreIndicatorReport\\Data\"\n",
    "\n",
    "# Using os.path.join for subdirectories\n",
    "college_fp = os.path.join(data_folder, 'College')\n",
    "district_fp = os.path.join(data_folder, 'District')\n",
    "top_code_fp = os.path.join(data_folder, 'Top Code')\n",
    "\n",
    "# csv file path to log the scraping record.\n",
    "record_csv_path = os.path.join(data_folder, 'scraping_log.csv')\n",
    "\n",
    "# Create directories if they don't exist\n",
    "os.makedirs(college_fp, exist_ok=True)\n",
    "os.makedirs(district_fp, exist_ok=True)\n",
    "os.makedirs(top_code_fp, exist_ok=True)"
   ]
  },
  {
   "cell_type": "code",
   "execution_count": 4,
   "id": "87126440-fc1b-493a-b5d9-51547b379277",
   "metadata": {},
   "outputs": [
    {
     "name": "stdout",
     "output_type": "stream",
     "text": [
      "Working on San Diego City College...\n"
     ]
    },
    {
     "name": "stderr",
     "output_type": "stream",
     "text": [
      "Fiscal Years:   0%|                                                                            | 0/5 [00:00<?, ?year/s]"
     ]
    },
    {
     "name": "stdout",
     "output_type": "stream",
     "text": [
      "No records to check against.\n"
     ]
    },
    {
     "name": "stderr",
     "output_type": "stream",
     "text": [
      "                                                                                                                       \r"
     ]
    },
    {
     "name": "stdout",
     "output_type": "stream",
     "text": [
      "Working on San Diego Mesa College...\n"
     ]
    },
    {
     "name": "stderr",
     "output_type": "stream",
     "text": [
      "                                                                                                                       \r"
     ]
    },
    {
     "name": "stdout",
     "output_type": "stream",
     "text": [
      "Working on San Diego Miramar College Reg Cntr...\n"
     ]
    },
    {
     "name": "stderr",
     "output_type": "stream",
     "text": [
      "                                                                                                                       \r"
     ]
    }
   ],
   "source": [
    "run.run(\n",
    "    form_type = 'Form 1 Part E-C - College',\n",
    "    college_ls = COLLEGE_LS,\n",
    "    year_ls = YEAR_LS\n",
    "       )"
   ]
  },
  {
   "cell_type": "code",
   "execution_count": 5,
   "id": "5265e438-8180-45bc-a773-56c7c78fc20e",
   "metadata": {},
   "outputs": [
    {
     "name": "stdout",
     "output_type": "stream",
     "text": [
      "Working on San Diego City College in 2024-2025...\n"
     ]
    },
    {
     "name": "stderr",
     "output_type": "stream",
     "text": [
      "                                                                                                                       \n",
      "KeyboardInterrupt\n",
      "\n"
     ]
    }
   ],
   "source": [
    "run.run(\n",
    "    form_type = 'Form 1 Part F by 6 Digit TOP Code - College',\n",
    "    college_ls = COLLEGE_LS,\n",
    "    year_ls = YEAR_LS\n",
    "       )"
   ]
  },
  {
   "cell_type": "code",
   "execution_count": null,
   "id": "3e50cdcc-cb0f-49d2-9b5e-32603183f1ad",
   "metadata": {},
   "outputs": [],
   "source": []
  }
 ],
 "metadata": {
  "kernelspec": {
   "display_name": "Python 3 (ipykernel)",
   "language": "python",
   "name": "python3"
  },
  "language_info": {
   "codemirror_mode": {
    "name": "ipython",
    "version": 3
   },
   "file_extension": ".py",
   "mimetype": "text/x-python",
   "name": "python",
   "nbconvert_exporter": "python",
   "pygments_lexer": "ipython3",
   "version": "3.11.7"
  }
 },
 "nbformat": 4,
 "nbformat_minor": 5
}
